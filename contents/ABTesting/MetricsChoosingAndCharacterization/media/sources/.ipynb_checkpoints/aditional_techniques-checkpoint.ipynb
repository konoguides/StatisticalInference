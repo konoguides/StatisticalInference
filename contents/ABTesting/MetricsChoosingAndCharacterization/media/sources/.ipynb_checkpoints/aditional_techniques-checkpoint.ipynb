{
 "cells": [
  {
   "cell_type": "markdown",
   "metadata": {},
   "source": [
    "# <span style=\"color: #2455C3;\">Additional techniques for brainstorming and validating metrics</span>"
   ]
  },
  {
   "cell_type": "markdown",
   "metadata": {},
   "source": [
    "<ul>\n",
    "    <li>helps to generate <b>new ideas</b> for <b>metrics</b></li>\n",
    "    <li><b>dig deeper</b> into phenomenons</li>\n",
    "</ul>\n",
    "\n",
    "\n",
    "### <span style=\"color: #2455C3;\">Additional techniques</span>\n",
    "\n",
    "<ul>\n",
    "    <li><a href=\"additional_techniques.pdf\" target=\"_blank\">External data</a></li>\n",
    "    <li><a href=\"#gathering\" target=\"_blank\">Gathering your own in-depth data</a></li>\n",
    "    <li><a href=\"additional_techniques.pdf\" target=\"_blank\">Retrospective analysis</a></li>\n",
    "    <li><a href=\"additional_techniques.pdf\" target=\"_blank\">Long-term prospective experiments</a></li>\n",
    "    <li><a href=\"additional_techniques.pdf\" target=\"_blank\">Human evaluation</a></li>\n",
    "    <li><a href=\"additional_techniques.pdf\" target=\"_blank\">Choosing a Technique</a></li>\n",
    "</ul>"
   ]
  },
  {
   "cell_type": "markdown",
   "metadata": {},
   "source": [
    "## <span id=\"gathering\" style=\"color: #2455C3;\">Gathering your own in-depth data</span>"
   ]
  },
  {
   "cell_type": "markdown",
   "metadata": {},
   "source": [
    "<figure>\n",
    "    <img src=\"GatheringInDepth.png\" alt=\"alt-text\" width=\"300px\" height=\"px\">\n",
    "    <figcaption></figcaption>\n",
    "</figure>\n",
    "\n",
    "<h3 style=\"color: #2455C3;\">a) User experience reasearch (UER)</h3>\n",
    "\n",
    "<ul style=\"list-style: none;\">\n",
    "    <li><em style=\"color: #008122;\">+ good for</em> <b style=\"color: #008122;\">brainstormin</b>: from changes to test to identify problems with <span style=\"font-weight: bold; color: #009933;\" title=\"user experience\">UE</span> and its translation to a metric to evaluate the A/B test</li>\n",
    "    <li><em style=\"color: #008122;\">+ can use special equipment</em>: to get info you can not get from your site, e.g. eye tracking</li>\n",
    "    <li><em style=\"color: #85100F;\">- want/need to validate results</em></li>\n",
    "</ul>\n",
    "\n",
    "<h3 style=\"color: #2455C3;\">b) Focus groups</h3>\n",
    "\n",
    "<ul style=\"list-style: none;\">\n",
    "    <li><em style=\"color: #008122;\">+ <b style=\"color: #008122;\">get feedback</b> on hypotheticals</em></li>\n",
    "    <li><em style=\"color: #85100F;\">- run the <b style=\"color: #85100F;\">risk</b> of <b style=\"color: #85100F;\">group think</b></em></li>\n",
    "</ul>\n",
    "\n",
    "<h3 style=\"color: #2455C3;\">b) Surveys</h3>\n",
    "\n",
    "<ul style=\"list-style: none;\">\n",
    "    <li><em style=\"color: #008122;\">+ useful for <b style=\"color: #008122;\">gathering metrics</b> you <b style=\"color: #008122;\">cannot directly measure</b></em></li>\n",
    "    <li><em style=\"color: #85100F;\">- users don't have to tell the truth</em>, and answer can be dependent on question formulation</li>\n",
    "    <li><em style=\"color: #85100F;\">- cannot directly <b>compare</b> to other results</em></li>\n",
    "</ul>"
   ]
  },
  {
   "cell_type": "markdown",
   "metadata": {},
   "source": [
    "## <span id=\"gathering\" style=\"color: #2455C3;\">Quick example on applying other techniques</span>"
   ]
  },
  {
   "cell_type": "markdown",
   "metadata": {},
   "source": [
    "<figure>\n",
    "    <img src=\"ApplyingOtherTechniques.png\" alt=\"alt-text\" width=\"450px\" height=\"px\">\n",
    "    <figcaption></figcaption>\n",
    "</figure>"
   ]
  }
 ],
 "metadata": {
  "kernelspec": {
   "display_name": "Python 2",
   "language": "python",
   "name": "python2"
  },
  "language_info": {
   "codemirror_mode": {
    "name": "ipython",
    "version": 2
   },
   "file_extension": ".py",
   "mimetype": "text/x-python",
   "name": "python",
   "nbconvert_exporter": "python",
   "pygments_lexer": "ipython2",
   "version": "2.7.6"
  }
 },
 "nbformat": 4,
 "nbformat_minor": 1
}
