{
 "cells": [
  {
   "cell_type": "code",
   "execution_count": 9,
   "metadata": {
    "collapsed": true
   },
   "outputs": [],
   "source": [
    "from scipy.stats import norm"
   ]
  },
  {
   "cell_type": "markdown",
   "metadata": {},
   "source": [
    "## Exercise\n",
    "\n",
    "92% of candidates scored as good or worse on a test than Steve. If the average score was a 55 with a standard deviation of 6 points **what was Steve’s score?**\n",
    "\n",
    "Firts we need to dermine, what z-value corresponds to a proportion below the normal distribution of 92%. We can use the **_percent point function (inverse of cdf — percentiles)_**"
   ]
  },
  {
   "cell_type": "code",
   "execution_count": 11,
   "metadata": {
    "collapsed": false
   },
   "outputs": [
    {
     "name": "stdout",
     "output_type": "stream",
     "text": [
      "1.405\n"
     ]
    }
   ],
   "source": [
    "z = round(norm.ppf(0.92),3)\n",
    "print z"
   ]
  },
  {
   "cell_type": "markdown",
   "metadata": {},
   "source": [
    "knowing that $\\mu=55$, $\\sigma=6$ and $z=1.405$, we can use the standardizing procedure to determine the value of $x$, the Steve's score on the test\n",
    "\n",
    "$$z = \\frac{x-\\mu}{\\sigma}$$\n",
    "$$x=\\mu + z\\cdot\\sigma$$"
   ]
  },
  {
   "cell_type": "code",
   "execution_count": 12,
   "metadata": {
    "collapsed": false
   },
   "outputs": [
    {
     "name": "stdout",
     "output_type": "stream",
     "text": [
      "63.43\n"
     ]
    }
   ],
   "source": [
    "mu = 55\n",
    "std = 6\n",
    "x = mu + z*std\n",
    "print x"
   ]
  },
  {
   "cell_type": "markdown",
   "metadata": {},
   "source": [
    "<span style=\"color: green\"><b>The Steve's score on the test was 63.43</b></span>"
   ]
  }
 ],
 "metadata": {
  "kernelspec": {
   "display_name": "Python 2",
   "language": "python",
   "name": "python2"
  },
  "language_info": {
   "codemirror_mode": {
    "name": "ipython",
    "version": 2
   },
   "file_extension": ".py",
   "mimetype": "text/x-python",
   "name": "python",
   "nbconvert_exporter": "python",
   "pygments_lexer": "ipython2",
   "version": "2.7.6"
  }
 },
 "nbformat": 4,
 "nbformat_minor": 0
}
