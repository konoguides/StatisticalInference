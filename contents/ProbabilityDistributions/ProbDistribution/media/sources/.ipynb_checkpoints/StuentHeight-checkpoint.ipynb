{
 "cells": [
  {
   "cell_type": "code",
   "execution_count": 5,
   "metadata": {
    "collapsed": true
   },
   "outputs": [],
   "source": [
    "from scipy.stats import norm"
   ]
  },
  {
   "cell_type": "markdown",
   "metadata": {},
   "source": [
    "## Example 1.\n",
    "\n",
    "The average height of students at a private university is $\\mu=1.85$ meters with a standard deviation of $\\sigma=0.15$ meters. **What percentage of students are shorter or as tall as Margie?**, who stands at $x=2.05$ meters.\n",
    "\n",
    "To solve this problem the first thing we need to find is our z-score:\n",
    "\n",
    "$$z = \\frac{x - \\mu}{\\sigma} = \\frac{2.05-1.85}{0.15}=1.\\bar{3}$$\n",
    "\n",
    "Now we need to use CDF of a normal distribution $\\left(\\mu,\\sigma \\right)=\\left(0,1\\right)$ to find the proportion below a z-score of $1.\\bar{3}$"
   ]
  },
  {
   "cell_type": "code",
   "execution_count": 4,
   "metadata": {
    "collapsed": false
   },
   "outputs": [
    {
     "data": {
      "text/plain": [
       "0.9087887802741319"
      ]
     },
     "execution_count": 4,
     "metadata": {},
     "output_type": "execute_result"
    }
   ],
   "source": [
    "z = (2.05-1.85)/0.15\n",
    "norm.cdf(z)"
   ]
  },
  {
   "cell_type": "markdown",
   "metadata": {},
   "source": [
    "<span style=\"color: green;\">this way we found that <b>90.88% of students are shorter or as tall as Margie</b>.</span>"
   ]
  },
  {
   "cell_type": "markdown",
   "metadata": {},
   "source": [
    "## Example 2.\n",
    "\n",
    "Margie also wants to know **what percent of students are taller than her**. Since the area under the normal curve is 1 we can find that proportion:\n",
    "\n",
    "$$1 - 0.90878878 = 0.09121122 = 9.12\\%$$\n",
    "\n",
    "or it can be obtained using the survival function:"
   ]
  },
  {
   "cell_type": "code",
   "execution_count": 10,
   "metadata": {
    "collapsed": false
   },
   "outputs": [
    {
     "data": {
      "text/plain": [
       "0.091211219725868153"
      ]
     },
     "execution_count": 10,
     "metadata": {},
     "output_type": "execute_result"
    }
   ],
   "source": [
    "# sf = 1 - cdf\n",
    "norm.sf(z)"
   ]
  },
  {
   "cell_type": "markdown",
   "metadata": {},
   "source": [
    "<span style=\"color: green;\">now we know that only <b>9.12% of students are taller than Margie</b>.</span>"
   ]
  },
  {
   "cell_type": "markdown",
   "metadata": {},
   "source": [
    "## Example 3.\n",
    "\n",
    "Anne only measures 1.87 meters. **What proportion of classmates are between Anne and Margies heights?**. Lets determine the z-value for Anne and Margie:\n",
    "\n",
    "$$z_{Anne} = \\frac{1.87-1.85}{0.15}=0.1\\bar{3}$$\n",
    "$$z_{Margie} = \\frac{2.05-1.85}{0.15}=1.\\bar{3}$$\n",
    "\n",
    "Now we need to use CDF of a normal distribution $\\left(\\mu,\\sigma \\right)=\\left(0,1\\right)$ to find the proportion below each z-score and determine its diference:"
   ]
  },
  {
   "cell_type": "code",
   "execution_count": 14,
   "metadata": {
    "collapsed": false
   },
   "outputs": [
    {
     "name": "stdout",
     "output_type": "stream",
     "text": [
      "0.553035116624\n"
     ]
    }
   ],
   "source": [
    "z_anne = (1.87-1.85)/0.15\n",
    "prop_anne = norm.cdf(z_anne)\n",
    "print prop_anne"
   ]
  },
  {
   "cell_type": "code",
   "execution_count": 13,
   "metadata": {
    "collapsed": false
   },
   "outputs": [
    {
     "name": "stdout",
     "output_type": "stream",
     "text": [
      "0.908788780274\n"
     ]
    }
   ],
   "source": [
    "z_margie = (2.05-1.85)/0.15\n",
    "prop_margie = norm.cdf(z_margie)\n",
    "print prop_margie"
   ]
  },
  {
   "cell_type": "code",
   "execution_count": 18,
   "metadata": {
    "collapsed": false
   },
   "outputs": [
    {
     "name": "stdout",
     "output_type": "stream",
     "text": [
      "0.355753663651 -> 35.58%\n"
     ]
    }
   ],
   "source": [
    "diff = prop_margie - prop_anne\n",
    "print '{} -> {:0.2f}%'.format(diff, diff*100)"
   ]
  },
  {
   "cell_type": "markdown",
   "metadata": {},
   "source": [
    "<span style=\"color: green;\"><b>The proportion of students who's height's are between Anne and Margies heights is 35.58%</b>.</span>"
   ]
  }
 ],
 "metadata": {
  "kernelspec": {
   "display_name": "Python 2",
   "language": "python",
   "name": "python2"
  },
  "language_info": {
   "codemirror_mode": {
    "name": "ipython",
    "version": 2
   },
   "file_extension": ".py",
   "mimetype": "text/x-python",
   "name": "python",
   "nbconvert_exporter": "python",
   "pygments_lexer": "ipython2",
   "version": "2.7.6"
  }
 },
 "nbformat": 4,
 "nbformat_minor": 0
}
