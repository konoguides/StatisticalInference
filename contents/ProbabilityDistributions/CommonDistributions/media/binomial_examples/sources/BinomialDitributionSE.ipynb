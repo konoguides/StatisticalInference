{
 "cells": [
  {
   "cell_type": "markdown",
   "metadata": {},
   "source": [
    "## <span style=\"color: #2455C3;\">Binomial distribution SE</span>"
   ]
  },
  {
   "cell_type": "markdown",
   "metadata": {},
   "source": [
    "The standard error of $\\overline{X}$ is the square root of the variance. It is common to use $n$ twice in two different ways - both as the sample size and as the number of bernoulli trials that comprise the Binomial random variable; to eliminate any ambiguity, I'm going to use $k$ to refer to the latter.\n",
    "\n",
    "If you have $n$ independent samples from a Binomial(k,p) distribution, the variance of their sample mean is:\n",
    "\n",
    "$${\\rm var} \\left( \\frac{1}{n} \\sum_{i=1}^{n} X_{i} \\right) = \\frac{1}{n^2} \\sum_{i=1}^{n} {\\rm var}( X_{i} ) = \\frac{ n {\\rm var}(X_{i}) }{ n^2 } = \\frac{ {\\rm var}(X_{i})}{n} = \\frac{ k pq }{n}$$\n",
    "\n",
    "where $q=1-p$ and $\\overline{X}$ is the same mean. This follows since\n",
    "\n",
    "1.  {\\rm var}(cX) = c^2 {\\rm var}(X), for any random variable, $X$, and any constant $c$\n",
    "\n",
    "2. the variance of a sum of independent random variables equals the sum of the variances\n",
    "\n",
    "The standard error of $\\overline{X}$ is the square root of the variance: $\\sqrt{\\frac{ k pq }{n}}$. Therefore,\n",
    "\n",
    "* When $k=n$, you get the expression: $SE = \\sqrt{pq}$\n",
    "* When $k=1$, and the Binomial variables are just bernoulli trials, you get the expression: $SE = \\sqrt{\\frac{pq }{n}}$ "
   ]
  }
 ],
 "metadata": {
  "kernelspec": {
   "display_name": "Python 2",
   "language": "python",
   "name": "python2"
  },
  "language_info": {
   "codemirror_mode": {
    "name": "ipython",
    "version": 2
   },
   "file_extension": ".py",
   "mimetype": "text/x-python",
   "name": "python",
   "nbconvert_exporter": "python",
   "pygments_lexer": "ipython2",
   "version": "2.7.6"
  }
 },
 "nbformat": 4,
 "nbformat_minor": 1
}
