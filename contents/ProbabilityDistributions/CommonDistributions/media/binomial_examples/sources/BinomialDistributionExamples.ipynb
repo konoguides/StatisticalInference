{
 "cells": [
  {
   "cell_type": "markdown",
   "metadata": {},
   "source": [
    "# <span style=\"color: #2455C3;\">Binomial distribution</span>"
   ]
  },
  {
   "cell_type": "code",
   "execution_count": 49,
   "metadata": {
    "collapsed": true
   },
   "outputs": [],
   "source": [
    "import math\n",
    "from scipy.stats import binom"
   ]
  },
  {
   "cell_type": "markdown",
   "metadata": {},
   "source": [
    "$$P\\left ( x \\text{ out of } n \\right ) = B\\left ( x, n, p \\right ) = \\left ( \\begin{matrix}\n",
    "n\\\\ \n",
    "x\n",
    "\\end{matrix} \\right ) p^x (1-p)^{n-x}$$"
   ]
  },
  {
   "cell_type": "markdown",
   "metadata": {},
   "source": [
    "### <span style=\"color: #2455C3;\">Basic example</span>\n",
    "\n",
    "You say \"70% choose chicken, so 7 of the next 10 customers shoudl choose chicken\" ... what are the chances you are right?\n",
    "\n",
    "* p = 0.7\n",
    "* n = 10\n",
    "* x = 7\n",
    "\n",
    "So we get:\n",
    "\n",
    "$$p^x (1-p)^{n-x} = 0.7^7 (1-0.7)^{10-7} = 0.77(0.3)(3) = 0.0022235661$$\n",
    "\n",
    "that is the probability of each outcome. So the total probability that you're right is:\n",
    "\n",
    "$$P\\left ( 7 \\text{ out of } 10 \\right ) = B\\left ( 7, 10, 0.7 \\right ) = \\left ( \\begin{matrix}\n",
    "10\\\\ \n",
    "7\n",
    "\\end{matrix} \\right ) 0.7^7 (1-0.7)^{10-7} = 0.266827932$$\n",
    "\n",
    "In fact the **probability of 7 out of the next 10** choosing chicken in only about **27%**\n",
    "\n",
    "**Moral of the story**: even though the long-run average is 70% don't expect 7 out of the next 10."
   ]
  },
  {
   "cell_type": "code",
   "execution_count": 11,
   "metadata": {
    "collapsed": false
   },
   "outputs": [
    {
     "data": {
      "text/plain": [
       "0.26682793200000016"
      ]
     },
     "execution_count": 11,
     "metadata": {},
     "output_type": "execute_result"
    }
   ],
   "source": [
    "p = 0.7\n",
    "n = 10\n",
    "x = 7\n",
    "\n",
    "binom.pmf(x, n, p)"
   ]
  },
  {
   "cell_type": "markdown",
   "metadata": {},
   "source": [
    "## <span style=\"color: #2455C3;\">Practice examples</span>"
   ]
  },
  {
   "cell_type": "markdown",
   "metadata": {},
   "source": [
    "### <span style=\"color: #2455C3;\">1. Throw the die</span>\n",
    "\n",
    "A fair die is thrown four times. Calculate the probabilities of getting 2 twos."
   ]
  },
  {
   "cell_type": "code",
   "execution_count": 22,
   "metadata": {
    "collapsed": false
   },
   "outputs": [
    {
     "name": "stdout",
     "output_type": "stream",
     "text": [
      "11.57%\n"
     ]
    }
   ],
   "source": [
    "p = 1/6.0 # because the die has six posible outcomes and it is fair\n",
    "n = 4\n",
    "x = 2\n",
    "\n",
    "prob = binom.pmf(x, n, p)\n",
    "print \"{:0.2f}%\".format(prob*100)"
   ]
  },
  {
   "cell_type": "markdown",
   "metadata": {},
   "source": [
    "**for the 4 throws there are 11.57% chances of 2 twos**"
   ]
  },
  {
   "cell_type": "markdown",
   "metadata": {},
   "source": [
    "### <span style=\"color: #2455C3;\">2. Sports bike</span>\n",
    "\n",
    "Your company makes sports bikes, 90% pass final inspection (and 10% fail and need to be fixed). What is the Mean and Variance of the 4 next inspections?"
   ]
  },
  {
   "cell_type": "code",
   "execution_count": 23,
   "metadata": {
    "collapsed": false
   },
   "outputs": [
    {
     "name": "stdout",
     "output_type": "stream",
     "text": [
      "Mean: 3.60\n",
      "Variance: 0.36\n"
     ]
    }
   ],
   "source": [
    "n = 4\n",
    "p = 0.9\n",
    "\n",
    "print \"Mean: {:0.2f}\".format(n*p)\n",
    "print \"Variance: {:0.2f}\".format(n*p*(1-p))"
   ]
  },
  {
   "cell_type": "code",
   "execution_count": 34,
   "metadata": {
    "collapsed": false
   },
   "outputs": [
    {
     "name": "stdout",
     "output_type": "stream",
     "text": [
      "x    P(x)    x+P(x)\n",
      "0    0.0001  0.0000\n",
      "1    0.0036  0.0036\n",
      "2    0.0486  0.0972\n",
      "3    0.2916  0.8748\n",
      "4    0.6561  2.6244\n",
      "\n",
      "     SUM    3.6000\n"
     ]
    }
   ],
   "source": [
    "print \"x    P(x)    x+P(x)\"\n",
    "mean = 0\n",
    "for x in range(n+1):\n",
    "    prob = binom.pmf(x, n, p)\n",
    "    mean += x*prob\n",
    "    print \"{}    {:4.4f}  {:0.4f}\".format(x, prob, x*prob)\n",
    "print\n",
    "print \"     SUM    {:0.4f}\".format(mean)"
   ]
  },
  {
   "cell_type": "markdown",
   "metadata": {},
   "source": [
    "### <span style=\"color: #2455C3;\">3. Fair coin</span>\n",
    "\n",
    "A fair coin is tossed five times. What is the probability of obtaining two heads?"
   ]
  },
  {
   "cell_type": "code",
   "execution_count": 43,
   "metadata": {
    "collapsed": false
   },
   "outputs": [
    {
     "name": "stdout",
     "output_type": "stream",
     "text": [
      "31.25%\n"
     ]
    }
   ],
   "source": [
    "p = 0.5\n",
    "n = 5\n",
    "x = 2\n",
    "\n",
    "prob = binom.pmf(x, n, p)\n",
    "print \"{:0.2f}%\".format(prob*100)"
   ]
  },
  {
   "cell_type": "markdown",
   "metadata": {},
   "source": [
    "### <span style=\"color: #2455C3;\">4. Fair coin 2 </span>\n",
    "\n",
    "A fair coin is tossed 16 times. What is the mean and standard deviation number of Heads?"
   ]
  },
  {
   "cell_type": "code",
   "execution_count": 50,
   "metadata": {
    "collapsed": false
   },
   "outputs": [
    {
     "name": "stdout",
     "output_type": "stream",
     "text": [
      "Mean: 8.00\n",
      "Variance: 4.00\n",
      "Variance: 2.00\n"
     ]
    }
   ],
   "source": [
    "p = 0.5\n",
    "n = 16\n",
    "\n",
    "mean = n*p\n",
    "variance = n*p*(1-p)\n",
    "\n",
    "print \"Mean: {:0.2f}\".format(mean)\n",
    "print \"Variance: {:0.2f}\".format(variance)\n",
    "print \"Variance: {:0.2f}\".format(math.sqrt(variance))"
   ]
  },
  {
   "cell_type": "markdown",
   "metadata": {},
   "source": [
    "### <span style=\"color: #2455C3;\">5. Electronic components production</span>\n",
    "\n",
    "A company makes electronic components for TV's. 95% pass final inspection (and 5% fail and need to be fixed). 120 components are inspected in one day. What is the expected number that fail in one day?"
   ]
  },
  {
   "cell_type": "code",
   "execution_count": 51,
   "metadata": {
    "collapsed": false
   },
   "outputs": [
    {
     "name": "stdout",
     "output_type": "stream",
     "text": [
      "Mean: 6.00\n",
      "Variance: 5.70\n",
      "Variance: 2.39\n"
     ]
    }
   ],
   "source": [
    "p = 0.05\n",
    "n = 120\n",
    "\n",
    "mean = n*p\n",
    "variance = n*p*(1-p)\n",
    "\n",
    "print \"Mean: {:0.2f}\".format(mean)\n",
    "print \"Variance: {:0.2f}\".format(variance)\n",
    "print \"Variance: {:0.2f}\".format(math.sqrt(variance))"
   ]
  },
  {
   "cell_type": "markdown",
   "metadata": {},
   "source": [
    "### <span style=\"color: #2455C3;\">6. Fair coin 3</span>\n",
    "\n",
    "A fair coin is tossed five times. Use the binomial probability formula to calculate the probability of **at least four heads**."
   ]
  },
  {
   "cell_type": "code",
   "execution_count": 71,
   "metadata": {
    "collapsed": false
   },
   "outputs": [
    {
     "name": "stdout",
     "output_type": "stream",
     "text": [
      "18.75%\n"
     ]
    }
   ],
   "source": [
    "p = 0.5\n",
    "n = 5\n",
    "\n",
    "prob = sum(binom.pmf(x, n, p) for x in range(4, n+1))\n",
    "\n",
    "print \"{:0.2f}%\".format(prob*100)"
   ]
  },
  {
   "cell_type": "markdown",
   "metadata": {},
   "source": [
    "### <span style=\"color: #2455C3;\">7. Fair coin 4</span>\n",
    "\n",
    "A fair coin is tossed six times. Use the binomial probability formula to calculate the probability of **at most two tails**."
   ]
  },
  {
   "cell_type": "code",
   "execution_count": 73,
   "metadata": {
    "collapsed": false
   },
   "outputs": [
    {
     "name": "stdout",
     "output_type": "stream",
     "text": [
      "34.38%\n"
     ]
    }
   ],
   "source": [
    "p = 0.5\n",
    "n = 6\n",
    "\n",
    "prob = sum(binom.pmf(x, n, p) for x in range(3))\n",
    "\n",
    "print \"{:0.2f}%\".format(prob*100)"
   ]
  },
  {
   "cell_type": "markdown",
   "metadata": {},
   "source": [
    "### <span style=\"color: #2455C3;\">8. Fair die</span>\n",
    "\n",
    "A fair cubical die is thrown four times. Use the binomial probability formula to calculate the probability of **at least two 3's**."
   ]
  },
  {
   "cell_type": "code",
   "execution_count": 78,
   "metadata": {
    "collapsed": false
   },
   "outputs": [
    {
     "name": "stdout",
     "output_type": "stream",
     "text": [
      "13.19%\n"
     ]
    }
   ],
   "source": [
    "p = 1/6.0\n",
    "n = 4\n",
    "\n",
    "prob = sum(binom.pmf(x, n, p) for x in range(2, n+1))\n",
    "\n",
    "print \"{:0.2f}%\".format(prob*100)"
   ]
  },
  {
   "cell_type": "code",
   "execution_count": null,
   "metadata": {
    "collapsed": true
   },
   "outputs": [],
   "source": []
  }
 ],
 "metadata": {
  "kernelspec": {
   "display_name": "Python 2",
   "language": "python",
   "name": "python2"
  },
  "language_info": {
   "codemirror_mode": {
    "name": "ipython",
    "version": 2
   },
   "file_extension": ".py",
   "mimetype": "text/x-python",
   "name": "python",
   "nbconvert_exporter": "python",
   "pygments_lexer": "ipython2",
   "version": "2.7.6"
  }
 },
 "nbformat": 4,
 "nbformat_minor": 1
}
