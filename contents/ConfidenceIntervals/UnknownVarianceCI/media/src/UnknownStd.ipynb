{
 "cells": [
  {
   "cell_type": "code",
   "execution_count": 4,
   "metadata": {
    "collapsed": true
   },
   "outputs": [],
   "source": [
    "from scipy.stats import t\n",
    "import numpy as np"
   ]
  },
  {
   "cell_type": "markdown",
   "metadata": {},
   "source": [
    "# <span style=\"color: #2455C3;\">Average weight of an adult male</span>"
   ]
  },
  {
   "cell_type": "markdown",
   "metadata": {},
   "source": [
    "We want to estimate the average weight of an adult male in Dekalb County, Georgia. We draw a random sample of $n=1000$ men from a population of $1,000,000$ men and weigh them. We find that the average man in our sample weighs $180$ pounds, and the standard deviation of the sample is $s = 30$ pounds. What is the $95\\%$ confidence interval."
   ]
  },
  {
   "cell_type": "markdown",
   "metadata": {},
   "source": [
    "## <span style=\"color: #85100F;\">Solution</span>"
   ]
  },
  {
   "cell_type": "code",
   "execution_count": 5,
   "metadata": {
    "collapsed": true
   },
   "outputs": [],
   "source": [
    "# sample statistic\n",
    "c = 0.95\n",
    "x_bar = 180.0\n",
    "s = 30.0\n",
    "n = 1000.0"
   ]
  },
  {
   "cell_type": "code",
   "execution_count": 7,
   "metadata": {
    "collapsed": false
   },
   "outputs": [
    {
     "name": "stdout",
     "output_type": "stream",
     "text": [
      "(178.138359431, 181.861640569)\n"
     ]
    }
   ],
   "source": [
    "# MANUAL CALCULATION\n",
    "t_char = t.ppf(0.5*(1+c), n-1)\n",
    "me = t_char * s / np.sqrt(n)\n",
    "print '({}, {})'.format(x_bar - me, x_bar + me)"
   ]
  },
  {
   "cell_type": "code",
   "execution_count": 8,
   "metadata": {
    "collapsed": false
   },
   "outputs": [
    {
     "data": {
      "text/plain": [
       "(178.13835943075065, 181.86164056924935)"
      ]
     },
     "execution_count": 8,
     "metadata": {},
     "output_type": "execute_result"
    }
   ],
   "source": [
    "# USING INTERVAL METHOD OF CONTINUOS DISTRIBUTIONS\n",
    "t.interval(c, n-1, x_bar, s/np.sqrt(n))"
   ]
  },
  {
   "cell_type": "markdown",
   "metadata": {},
   "source": [
    "# <span style=\"color: #2455C3;\">Normal temperature in °F</span>"
   ]
  },
  {
   "cell_type": "markdown",
   "metadata": {},
   "source": [
    "To determine the \"Normal body temperature\" 130 subjects where tested, the resulting mean was $\\bar{x} = 98.2492$ with standard deviation $s=0.7332$. Determine a 95% confidence interval for the given data. "
   ]
  },
  {
   "cell_type": "code",
   "execution_count": 2,
   "metadata": {
    "collapsed": true
   },
   "outputs": [],
   "source": [
    "c = 0.95\n",
    "x_bar = 98.2492\n",
    "s = 0.7332\n",
    "n = 130.0"
   ]
  },
  {
   "cell_type": "code",
   "execution_count": 5,
   "metadata": {
    "collapsed": false
   },
   "outputs": [
    {
     "data": {
      "text/plain": [
       "(98.121969213824158, 98.376430786175845)"
      ]
     },
     "execution_count": 5,
     "metadata": {},
     "output_type": "execute_result"
    }
   ],
   "source": [
    "# USING INTERVAL METHOD OF CONTINUOS DISTRIBUTIONS\n",
    "t.interval(c, n-1, x_bar, s/np.sqrt(n))"
   ]
  }
 ],
 "metadata": {
  "kernelspec": {
   "display_name": "Python 2",
   "language": "python",
   "name": "python2"
  },
  "language_info": {
   "codemirror_mode": {
    "name": "ipython",
    "version": 2
   },
   "file_extension": ".py",
   "mimetype": "text/x-python",
   "name": "python",
   "nbconvert_exporter": "python",
   "pygments_lexer": "ipython2",
   "version": "2.7.6"
  }
 },
 "nbformat": 4,
 "nbformat_minor": 0
}
