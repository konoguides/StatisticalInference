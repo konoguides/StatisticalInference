{
 "cells": [
  {
   "cell_type": "code",
   "execution_count": 1,
   "metadata": {
    "collapsed": true
   },
   "outputs": [],
   "source": [
    "from scipy.stats import norm\n",
    "import numpy as np"
   ]
  },
  {
   "cell_type": "markdown",
   "metadata": {},
   "source": [
    "# <span style=\"color: #2455C3;\">Interactive in-class activities</span>"
   ]
  },
  {
   "cell_type": "markdown",
   "metadata": {},
   "source": [
    "A chemestry teacher wnats to improve exam scores by incorporating more interactive in-class activities. The mean exam score for **all** her previous clases in 68% with standard deviation of 10%. After trying out the interactive in-class activities for her current class, this class got a score of 75%. There were 25 students in the class. She decides to calculate a 95% confidence interval for what the average exam score would be if she continued this method for all classes. Also wants to know what is the probability of obtaining this mean (75%) or greater?"
   ]
  },
  {
   "cell_type": "markdown",
   "metadata": {},
   "source": [
    "## <span style=\"color: #85100F;\">Solution</span>"
   ]
  },
  {
   "cell_type": "code",
   "execution_count": 2,
   "metadata": {
    "collapsed": true
   },
   "outputs": [],
   "source": [
    "c = 0.95\n",
    "x_bar = 75.0\n",
    "sigma = 10.0\n",
    "n = 25.0"
   ]
  },
  {
   "cell_type": "code",
   "execution_count": 4,
   "metadata": {
    "collapsed": false
   },
   "outputs": [
    {
     "name": "stdout",
     "output_type": "stream",
     "text": [
      "(71.0800720309, 78.9199279691)\n"
     ]
    }
   ],
   "source": [
    "# MANUAL CALCULATION\n",
    "z_char = norm.ppf((1+c)/2.0)\n",
    "me = z_char * sigma / np.sqrt(n)\n",
    "print '({}, {})'.format(x_bar - me, x_bar + me)"
   ]
  },
  {
   "cell_type": "code",
   "execution_count": 6,
   "metadata": {
    "collapsed": false
   },
   "outputs": [
    {
     "data": {
      "text/plain": [
       "(71.080072030919894, 78.919927969080106)"
      ]
     },
     "execution_count": 6,
     "metadata": {},
     "output_type": "execute_result"
    }
   ],
   "source": [
    "# USING INTERVAL METHOD OF CONTINUOS DISTRIBUTIONS\n",
    "norm.interval(c, x_bar, sigma/np.sqrt(n))"
   ]
  },
  {
   "cell_type": "markdown",
   "metadata": {},
   "source": [
    "<span style=\"color: #009933;\">The probability of obtain a mean of 75% or grater is:</span>"
   ]
  },
  {
   "cell_type": "code",
   "execution_count": 10,
   "metadata": {
    "collapsed": false
   },
   "outputs": [
    {
     "data": {
      "text/plain": [
       "0.00023262907903552502"
      ]
     },
     "execution_count": 10,
     "metadata": {},
     "output_type": "execute_result"
    }
   ],
   "source": [
    "norm.sf(75, loc=68, scale=10/np.sqrt(n))"
   ]
  },
  {
   "cell_type": "markdown",
   "metadata": {},
   "source": [
    "**What does this confidence interval** (71.08, 78.92) **tell us** about the effects of incorporating more in-class interactive activities?"
   ]
  },
  {
   "cell_type": "markdown",
   "metadata": {},
   "source": [
    "<ul style=\"color: #009933;\">\n",
    "    <li>The <b>new way</b> of teaching is <b>likely more efective</b> than the old way</li>\n",
    "    <li>If she continued this new way of teaching, the mean exam score for all future students would likely be between about 71% and 79%</li>\n",
    "</ul>"
   ]
  },
  {
   "cell_type": "markdown",
   "metadata": {},
   "source": [
    "# <span style=\"color: #2455C3;\">Normally distributed population</span>"
   ]
  },
  {
   "cell_type": "markdown",
   "metadata": {},
   "source": [
    "A population is normally distributed with standard deviation of 2.8. Compute the 95%  confidence interval for the mean, based on the folowing random sample (n=6): $$8,9,12,13,14,16$$"
   ]
  },
  {
   "cell_type": "markdown",
   "metadata": {},
   "source": [
    "## <span style=\"color: #85100F;\">Solution</span>"
   ]
  },
  {
   "cell_type": "code",
   "execution_count": 14,
   "metadata": {
    "collapsed": false
   },
   "outputs": [
    {
     "data": {
      "text/plain": [
       "(9.7595745510341878, 14.240425448965812)"
      ]
     },
     "execution_count": 14,
     "metadata": {},
     "output_type": "execute_result"
    }
   ],
   "source": [
    "sample = np.array([8,9,12,13,14,16])\n",
    "c = 0.95\n",
    "x_bar = sample.mean()\n",
    "sigma = 2.8\n",
    "n = len(sample)\n",
    "norm.interval(c, x_bar, sigma/np.sqrt(n))"
   ]
  },
  {
   "cell_type": "markdown",
   "metadata": {},
   "source": [
    "# <span style=\"color: #2455C3;\">Meditation on hypertension</span>"
   ]
  },
  {
   "cell_type": "markdown",
   "metadata": {},
   "source": [
    "A medical dorctor wants to reduce blood preasure in his hypertensive patients by teaching them to meditate. He finds that the mean systolic blood preasure for the population of Stage 2 hypertensive patients (those with high blood preasure) is 180 mmHG ($\\mu$ = 180) with a standard deviation of 18 mmHG ($\\sigma = 18$). After teaching a samle of 9 patients to meditate, he obtains a sample mean of 175. If he taught all his patients to meditate, could it reduce their average blood preasure? To answer this, he decides to calculate a 99% confidence interval for the average."
   ]
  },
  {
   "cell_type": "markdown",
   "metadata": {},
   "source": [
    "## <span style=\"color: #85100F;\">Solution</span>"
   ]
  },
  {
   "cell_type": "code",
   "execution_count": 20,
   "metadata": {
    "collapsed": false
   },
   "outputs": [
    {
     "data": {
      "text/plain": [
       "(159.5450241787066, 190.4549758212934)"
      ]
     },
     "execution_count": 20,
     "metadata": {},
     "output_type": "execute_result"
    }
   ],
   "source": [
    "c = 0.99\n",
    "x_bar = 175.0\n",
    "sigma = 18.0\n",
    "n = 9.0\n",
    "norm.interval(c, x_bar, sigma/np.sqrt(n))"
   ]
  },
  {
   "cell_type": "markdown",
   "metadata": {},
   "source": [
    "**What is the probability of obtaining** thi mean **(175 mmHG)** or lower?"
   ]
  },
  {
   "cell_type": "code",
   "execution_count": 21,
   "metadata": {
    "collapsed": false
   },
   "outputs": [
    {
     "data": {
      "text/plain": [
       "0.20232838096364308"
      ]
     },
     "execution_count": 21,
     "metadata": {},
     "output_type": "execute_result"
    }
   ],
   "source": [
    "SE = sigma/np.sqrt(n)\n",
    "z_score = (x_bar - 180.0) / SE\n",
    "norm.cdf(z_score)"
   ]
  },
  {
   "cell_type": "markdown",
   "metadata": {},
   "source": [
    "**What does** the **CI tell us** about the effects of meditation on blood pessure?"
   ]
  },
  {
   "cell_type": "markdown",
   "metadata": {},
   "source": [
    "<ul style=\"color: #009933;\">\n",
    "    <li><b>Given</b> that the <b>population mean lies on the CI</b>, these <b>data do not provide good evidence that meditation reduces blood preasure</b></li>\n",
    "    <li>If the doctor had all his feature patients meditate the same way as his sample, the mean blood preassure would likely fall between 160 and 190 mmHG</li>\n",
    "</ul>"
   ]
  }
 ],
 "metadata": {
  "kernelspec": {
   "display_name": "Python 2",
   "language": "python",
   "name": "python2"
  },
  "language_info": {
   "codemirror_mode": {
    "name": "ipython",
    "version": 2
   },
   "file_extension": ".py",
   "mimetype": "text/x-python",
   "name": "python",
   "nbconvert_exporter": "python",
   "pygments_lexer": "ipython2",
   "version": "2.7.6"
  }
 },
 "nbformat": 4,
 "nbformat_minor": 0
}
