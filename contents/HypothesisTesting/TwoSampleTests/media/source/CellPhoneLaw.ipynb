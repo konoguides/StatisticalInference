{
 "cells": [
  {
   "cell_type": "code",
   "execution_count": 1,
   "metadata": {
    "collapsed": true
   },
   "outputs": [],
   "source": [
    "from scipy.stats import norm, t\n",
    "import numpy as np"
   ]
  },
  {
   "cell_type": "markdown",
   "metadata": {},
   "source": [
    "<hr style=\"color: #009933; border: solid 1px\">\n",
    "<span style=\"color: #009933;\">unknown std, $s$</span>"
   ]
  },
  {
   "cell_type": "markdown",
   "metadata": {},
   "source": [
    "# <span style=\"color: #2455C3;\">Cell phone law</span>"
   ]
  },
  {
   "cell_type": "markdown",
   "metadata": {},
   "source": [
    "Researches are interested in the effects of a law that penalizes talking on phone while driving. The researches randomly sampled 10 counties in a US state before and after the law was passed. They measured the total number of accidents due to cell phone use the year before and the year after the law. They hypothized that the law would reduce the number of accidents due the cell phone use."
   ]
  },
  {
   "cell_type": "markdown",
   "metadata": {},
   "source": [
    "## <span style=\"color: #85100F\">Solution</span>"
   ]
  },
  {
   "cell_type": "markdown",
   "metadata": {},
   "source": [
    "#### <span style=\"color: #85100F\">1. Statating the hypothesis</span>"
   ]
  },
  {
   "cell_type": "markdown",
   "metadata": {},
   "source": [
    "$$\\begin{array}{cl}\n",
    "H_0: & \\mu_{\\text{post}} \\geq \\mu_{\\text{pre}}\\\\\n",
    " & \\text{the law has no effect in the number of accidents duw to cell phone use}\\\\\n",
    "H_A: & \\mu_{\\text{post}} < \\mu_{\\text{pre}}\\\\\n",
    " & \\text{the law helps to reduce the number of accidents due to cell phone use}\n",
    "\\end{array}$$"
   ]
  },
  {
   "cell_type": "markdown",
   "metadata": {},
   "source": [
    "#### <span style=\"color: #85100F;\">2. Analyzing sample data</span>"
   ]
  },
  {
   "cell_type": "code",
   "execution_count": 17,
   "metadata": {
    "collapsed": true
   },
   "outputs": [],
   "source": [
    "# known data\n",
    "# one-sampple left tailed test\n",
    "n = 10.0\n",
    "mu = 0\n",
    "alpha = 0.05"
   ]
  },
  {
   "cell_type": "code",
   "execution_count": 5,
   "metadata": {
    "collapsed": false
   },
   "outputs": [
    {
     "data": {
      "text/plain": [
       "array([-3, -1, -2, -3, -5, -2, -5, -2, -4, -3])"
      ]
     },
     "execution_count": 5,
     "metadata": {},
     "output_type": "execute_result"
    }
   ],
   "source": [
    "# samples - number of car accidents in thousands due to cell phone use\n",
    "pretest = np.array([8,7,6,9,10,5,7,11,8,7])\n",
    "posttest = np.array([5,6,4,6,5,3,2,9,4,4])\n",
    "diff = posttest - pretest \n",
    "diff"
   ]
  },
  {
   "cell_type": "code",
   "execution_count": 16,
   "metadata": {
    "collapsed": false
   },
   "outputs": [
    {
     "name": "stdout",
     "output_type": "stream",
     "text": [
      "xbar_D=-3.00, s_D=1.33, SE=0.42\n"
     ]
    }
   ],
   "source": [
    "# mean and s\n",
    "xbar_D = diff.mean()\n",
    "s_D = diff.std(ddof=1)\n",
    "SE = s_D / np.sqrt(n)\n",
    "print \"xbar_D={:0.2f}, s_D={:0.2f}, SE={:0.2f}\".format(xbar_D,\n",
    "                                                        s_D, SE)"
   ]
  },
  {
   "cell_type": "markdown",
   "metadata": {},
   "source": [
    "#### <span style=\"color: #85100F;\">3. Test statistic calculation</span>"
   ]
  },
  {
   "cell_type": "code",
   "execution_count": 18,
   "metadata": {
    "collapsed": false
   },
   "outputs": [
    {
     "data": {
      "text/plain": [
       "-7.1151247353788545"
      ]
     },
     "execution_count": 18,
     "metadata": {},
     "output_type": "execute_result"
    }
   ],
   "source": [
    "t_score = (xbar_D - mu) / SE\n",
    "t_score"
   ]
  },
  {
   "cell_type": "markdown",
   "metadata": {},
   "source": [
    "#### <span style=\"color: #85100F;\">4. Critical point determination</span>"
   ]
  },
  {
   "cell_type": "code",
   "execution_count": 10,
   "metadata": {
    "collapsed": false
   },
   "outputs": [
    {
     "data": {
      "text/plain": [
       "-1.8331129326536337"
      ]
     },
     "execution_count": 10,
     "metadata": {},
     "output_type": "execute_result"
    }
   ],
   "source": [
    "t_critical = t.ppf(alpha, n-1)\n",
    "t_critical"
   ]
  },
  {
   "cell_type": "markdown",
   "metadata": {},
   "source": [
    "#### <span style=\"color: #85100F;\">5. Results interpretation</span>"
   ]
  },
  {
   "cell_type": "markdown",
   "metadata": {},
   "source": [
    "<span style=\"color: #009933;\">The <b>null hypothesis is rejected</b>, which means that <b>the law has effectively reduce the number of accidents due the use of cell phone</b></span>\n",
    "\n",
    "1) <u>Descriptive statistics:</u>\n",
    "    $$\\begin{array}{ccc}\n",
    "    \\mu & = & 0\\\\\n",
    "    \\bar{x}_D & = & -3.0\\\\\n",
    "    s_D & = & 1.33\n",
    "    \\end{array}$$\n",
    "\n",
    "2) <u>Inferential statistics:</u>\n",
    "\n",
    "t(9)=-7.2, p=.00003, one-tailed<br>\n",
    "Confidence interval on the mean difference on number of accidents<br>\n",
    "95% CI = (-3.95 to -2.05)\n",
    "\n",
    "3) <u>Effect size measures:</u>\n",
    "\n",
    "* Cohen's d = -2.25\n",
    "* R^2 = .85\n",
    "\n",
    "So the <b>85%</b> of the <b>difference in accidents due to cell phone use</b> for the sample of 10 counties are <b>due to</b> the <b>cell-phone law</b>."
   ]
  },
  {
   "cell_type": "code",
   "execution_count": 20,
   "metadata": {
    "collapsed": false
   },
   "outputs": [
    {
     "name": "stdout",
     "output_type": "stream",
     "text": [
      "P-value = 0.00003\n"
     ]
    }
   ],
   "source": [
    "# P-value\n",
    "P_value = t.cdf(t_score, n-1)\n",
    "print \"P-value = {:0.5f}\".format(P_value)"
   ]
  },
  {
   "cell_type": "code",
   "execution_count": 22,
   "metadata": {
    "collapsed": false
   },
   "outputs": [
    {
     "name": "stdout",
     "output_type": "stream",
     "text": [
      "d = -2.25\n"
     ]
    }
   ],
   "source": [
    "# Cohen's d\n",
    "d = (xbar_D - mu) / s_D\n",
    "print \"d = {:0.2f}\".format(d)"
   ]
  },
  {
   "cell_type": "code",
   "execution_count": 23,
   "metadata": {
    "collapsed": false
   },
   "outputs": [
    {
     "name": "stdout",
     "output_type": "stream",
     "text": [
      "R^2 = 0.85\n"
     ]
    }
   ],
   "source": [
    "# R^2\n",
    "r_squared = t_score**2 / (t_score**2 + (n-1))\n",
    "print \"R^2 = {:0.2f}\".format(r_squared)"
   ]
  },
  {
   "cell_type": "code",
   "execution_count": 26,
   "metadata": {
    "collapsed": false
   },
   "outputs": [
    {
     "name": "stdout",
     "output_type": "stream",
     "text": [
      "95% CI = (-3.95 to -2.05)\n"
     ]
    }
   ],
   "source": [
    "# CI\n",
    "t_char = t.ppf(1-alpha/2, n-1)\n",
    "me = t_char * SE\n",
    "print \"95% CI = ({:0.2f} to {:0.2f})\".format(xbar_D-me, xbar_D+me)"
   ]
  }
 ],
 "metadata": {
  "kernelspec": {
   "display_name": "Python 2",
   "language": "python",
   "name": "python2"
  },
  "language_info": {
   "codemirror_mode": {
    "name": "ipython",
    "version": 2
   },
   "file_extension": ".py",
   "mimetype": "text/x-python",
   "name": "python",
   "nbconvert_exporter": "python",
   "pygments_lexer": "ipython2",
   "version": "2.7.6"
  }
 },
 "nbformat": 4,
 "nbformat_minor": 0
}
