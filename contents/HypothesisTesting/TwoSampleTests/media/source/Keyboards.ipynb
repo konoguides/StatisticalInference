{
 "cells": [
  {
   "cell_type": "code",
   "execution_count": 1,
   "metadata": {
    "collapsed": true
   },
   "outputs": [],
   "source": [
    "from scipy.stats import norm, t\n",
    "import numpy as np"
   ]
  },
  {
   "cell_type": "markdown",
   "metadata": {},
   "source": [
    "<hr style=\"color: #009933; border: solid 1px\">\n",
    "<span style=\"color: #009933;\">unknown std, $s$</span>"
   ]
  },
  {
   "cell_type": "markdown",
   "metadata": {},
   "source": [
    "# <span style=\"color: #2455C3;\">Keyboards</span>"
   ]
  },
  {
   "cell_type": "markdown",
   "metadata": {},
   "source": [
    "A researcher is interesed in the effects of two different keyboard configurations (Qwerty and alphabetical) in cellphones on errors made in typiing text messages. To study this 25 participants ($n=25$) used each keyboard type, they typed a standarized 20 word text message within 30 seconds. The number of erros for each person using each type of keyboard was recorded. These participants where randomly assign to which type they used first. The data about errors made by each person is this:"
   ]
  },
  {
   "cell_type": "markdown",
   "metadata": {},
   "source": [
    "##  <span style=\"color: #85100F;\">Solution</span>"
   ]
  },
  {
   "cell_type": "markdown",
   "metadata": {},
   "source": [
    "#### <span style=\"color: #85100F;\">1. State the hypothesis</span>"
   ]
  },
  {
   "cell_type": "markdown",
   "metadata": {},
   "source": [
    "$H_0$: there is no difference in the number of errors made in typing with any of the two diffrent keybords"
   ]
  },
  {
   "cell_type": "markdown",
   "metadata": {},
   "source": [
    "$$\\begin{array}{cc}\n",
    "H_{0}: & \\mu_{1}-\\mu_{2}=0\\\\\n",
    "H_{1}: & \\mu_{1}-\\mu_{2}\\neq0\n",
    "\\end{array}\\Rightarrow\\begin{array}{cc}\n",
    "H_{0}: & \\mu_{D}=0\\\\\n",
    "H_{1}: & \\mu_{D}\\neq0\n",
    "\\end{array}$$"
   ]
  },
  {
   "cell_type": "markdown",
   "metadata": {},
   "source": [
    "#### <span style=\"color: #85100F;\">2. Analyzing sample data</span>"
   ]
  },
  {
   "cell_type": "code",
   "execution_count": 3,
   "metadata": {
    "collapsed": true
   },
   "outputs": [],
   "source": [
    "# known data\n",
    "# dependent two-sample test\n",
    "n = len(qwerty)\n",
    "mu = 0\n",
    "alpha = 0.05"
   ]
  },
  {
   "cell_type": "code",
   "execution_count": 6,
   "metadata": {
    "collapsed": false
   },
   "outputs": [
    {
     "name": "stdout",
     "output_type": "stream",
     "text": [
      "\n"
     ]
    }
   ],
   "source": [
    "# samples - number of errors while typing\n",
    "qwerty = np.array([6,6,2,7,8,8,2,3,5,7,10,5,4,7,5,7,4,5,2,5,3,4,4,4,4])\n",
    "alphab = np.array([6,11,8,5,11,8,10,7,4,3,7,6,10,10,6,5,10,11,13,8,5,11,7,8,5])\n",
    "diff = qwerty - alphab"
   ]
  },
  {
   "cell_type": "code",
   "execution_count": 10,
   "metadata": {
    "collapsed": false
   },
   "outputs": [
    {
     "name": "stdout",
     "output_type": "stream",
     "text": [
      "xbarQ=5.08, xbarA=7.80\n",
      "xbar_D=-2.72, s_D=3.69, SE=0.74\n"
     ]
    }
   ],
   "source": [
    "# mean and s\n",
    "print \"xbarQ={:0.2f}, xbarA={:0.2f}\".format(qwerty.mean(), alphab.mean())\n",
    "xbarD = diff.mean()\n",
    "s_D = diff.std(ddof=1)\n",
    "SE = s_D / np.sqrt(n)\n",
    "print \"xbar_D={:0.2f}, s_D={:0.2f}, SE={:0.2f}\".format(xbarD,\n",
    "                                                        s_D, SE)"
   ]
  },
  {
   "cell_type": "markdown",
   "metadata": {},
   "source": [
    "#### <span style=\"color: #85100F;\">3. Test statistic calculation</span>"
   ]
  },
  {
   "cell_type": "code",
   "execution_count": 11,
   "metadata": {
    "collapsed": false
   },
   "outputs": [
    {
     "data": {
      "text/plain": [
       "-3.684207583536927"
      ]
     },
     "execution_count": 11,
     "metadata": {},
     "output_type": "execute_result"
    }
   ],
   "source": [
    "t_score = (xbarD - mu) / SE\n",
    "t_score"
   ]
  },
  {
   "cell_type": "markdown",
   "metadata": {},
   "source": [
    "#### <span style=\"color: #85100F;\">4. Critical point determination</span>"
   ]
  },
  {
   "cell_type": "code",
   "execution_count": 12,
   "metadata": {
    "collapsed": false
   },
   "outputs": [
    {
     "data": {
      "text/plain": [
       "2.0638985616280205"
      ]
     },
     "execution_count": 12,
     "metadata": {},
     "output_type": "execute_result"
    }
   ],
   "source": [
    "t_critical = t.ppf(1-alpha/2, n-1)\n",
    "t_critical"
   ]
  },
  {
   "cell_type": "markdown",
   "metadata": {},
   "source": [
    "#### <span style=\"color: #85100F;\">5. Results interpretation</span>"
   ]
  },
  {
   "cell_type": "markdown",
   "metadata": {},
   "source": [
    "<span style=\"color: #009933;\">The <b>null hypothesis is rejected with $p<0.01$</b>, which means that <b>there is a significant difference in the number of errors made with each keyboard</b>. In fact, given that $d = -0.74$ the <b>number of errors using qwerty keyboard is significantly less, between 1.2 and 4.2 less errors</b> than using alphabetical keyboard.</span>\n",
    "\n",
    "1) <u>Descriptive statistics:</u>\n",
    "    $$\\begin{array}{ccc}\n",
    "    \\mu & = & 0\\\\\n",
    "    \\bar{x}_D & = & -2.72\\\\\n",
    "    s_D & = & 3.69\n",
    "    \\end{array}$$\n",
    "\n",
    "2) <u>Inferential statistics:</u>\n",
    "\n",
    "t(24)=-3.68, p=.001, two-tailed<br>\n",
    "Confidence interval on the mean difference on number of errors<br>\n",
    "95% CI = (-4.24 to -1.2)\n",
    "\n",
    "3) <u>Effect size measures:</u>\n",
    "\n",
    "* Cohen's d = -0.74\n",
    "* R^2 = .36\n",
    "\n",
    "So the <b>36%</b> of the <b>difference in erros while typing</b> for the sample of 25 peaple are <b>due to</b> the <b>keyboard type</b>."
   ]
  },
  {
   "cell_type": "markdown",
   "metadata": {},
   "source": [
    "We reject the null hypothesis with $p < 0.05$. In conclusion, given that $t-score = -3.68$, the use of alphabetical keyboard leads to significantly more errors in typing than the qwerty keyboard."
   ]
  },
  {
   "cell_type": "code",
   "execution_count": 16,
   "metadata": {
    "collapsed": false
   },
   "outputs": [
    {
     "name": "stdout",
     "output_type": "stream",
     "text": [
      "P-value = 0.001\n"
     ]
    }
   ],
   "source": [
    "# P-value\n",
    "P_value = 2*t.cdf(t_score, n-1)\n",
    "print \"P-value = {:0.3f}\".format(P_value)"
   ]
  },
  {
   "cell_type": "code",
   "execution_count": 18,
   "metadata": {
    "collapsed": false
   },
   "outputs": [
    {
     "name": "stdout",
     "output_type": "stream",
     "text": [
      "95% CI = (-4.24 to -1.20)\n"
     ]
    }
   ],
   "source": [
    "# CI\n",
    "t_char = t.ppf(1-alpha/2, n-1)\n",
    "me = t_char * SE\n",
    "print \"95% CI = ({:0.2f} to {:0.2f})\".format(xbarD-me, xbarD+me)"
   ]
  },
  {
   "cell_type": "code",
   "execution_count": 19,
   "metadata": {
    "collapsed": false
   },
   "outputs": [
    {
     "name": "stdout",
     "output_type": "stream",
     "text": [
      "d = -0.74\n"
     ]
    }
   ],
   "source": [
    "# Cohen's d\n",
    "d = (xbarD - mu) / s_D\n",
    "print \"d = {:0.2f}\".format(d)"
   ]
  },
  {
   "cell_type": "code",
   "execution_count": 20,
   "metadata": {
    "collapsed": false
   },
   "outputs": [
    {
     "name": "stdout",
     "output_type": "stream",
     "text": [
      "R^2 = 0.36\n"
     ]
    }
   ],
   "source": [
    "# R^2\n",
    "r_squared = t_score**2 / (t_score**2 + (n-1))\n",
    "print \"R^2 = {:0.2f}\".format(r_squared)"
   ]
  }
 ],
 "metadata": {
  "kernelspec": {
   "display_name": "Python 2",
   "language": "python",
   "name": "python2"
  },
  "language_info": {
   "codemirror_mode": {
    "name": "ipython",
    "version": 2
   },
   "file_extension": ".py",
   "mimetype": "text/x-python",
   "name": "python",
   "nbconvert_exporter": "python",
   "pygments_lexer": "ipython2",
   "version": "2.7.6"
  }
 },
 "nbformat": 4,
 "nbformat_minor": 0
}
