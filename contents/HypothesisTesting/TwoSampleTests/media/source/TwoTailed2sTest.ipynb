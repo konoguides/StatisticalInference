{
 "cells": [
  {
   "cell_type": "code",
   "execution_count": 60,
   "metadata": {
    "collapsed": true
   },
   "outputs": [],
   "source": [
    "from scipy.stats import norm, t\n",
    "import numpy as np"
   ]
  },
  {
   "cell_type": "markdown",
   "metadata": {},
   "source": [
    "<hr style=\"color: #009933; border: solid 1px\">\n",
    "<span style=\"color: #009933;\">unknown std, $s$</span>"
   ]
  },
  {
   "cell_type": "markdown",
   "metadata": {
    "collapsed": true
   },
   "source": [
    "# <span style=\"color: #2455C3\">Eating with friends</span>"
   ]
  },
  {
   "cell_type": "markdown",
   "metadata": {},
   "source": [
    "You and your friends want to go out to eat, but you don't want to pay a lot. Yu decide to either go to Gettysburg or Wilma. You look online and find the average meal prices at 18 restaurants in Gettysburg and 14 restaurants in Wilma. You want to know if statistically there is a significant difference between the meal prices in each of these two areas of town."
   ]
  },
  {
   "cell_type": "markdown",
   "metadata": {},
   "source": [
    "## <span style=\"color: #85100F\">Solution</span>"
   ]
  },
  {
   "cell_type": "markdown",
   "metadata": {},
   "source": [
    "#### <span style=\"color: #85100F\">1. Statating the hypothesis</span>"
   ]
  },
  {
   "cell_type": "markdown",
   "metadata": {},
   "source": [
    "$$\\begin{array}{cl}\n",
    "H_0: & \\mu_G = \\mu_W\\\\\n",
    " & \\text{there is no significantly difference in prices}\\\\\n",
    "H_A: & \\mu_G \\neq \\mu_W\\\\\n",
    " & \\text{there is a significant difference in prices}\n",
    "\\end{array}$$"
   ]
  },
  {
   "cell_type": "markdown",
   "metadata": {},
   "source": [
    "#### <span style=\"color: #85100F;\">2. Analyzing sample data</span>"
   ]
  },
  {
   "cell_type": "code",
   "execution_count": 61,
   "metadata": {
    "collapsed": true
   },
   "outputs": [],
   "source": [
    "# known data\n",
    "# two-sampple two-tailed test\n",
    "alpha = 0.05"
   ]
  },
  {
   "cell_type": "code",
   "execution_count": 74,
   "metadata": {
    "collapsed": true
   },
   "outputs": [],
   "source": [
    "# samples - prices of reataurants of the area\n",
    "gettysburg = np.array([9,5,6,11,8,5,7,13,12,13,9,8,10,6,11,9,7,12])\n",
    "wilma = np.array([11,10,12,9,8,13,14,15,12,11,13,8,9,11])"
   ]
  },
  {
   "cell_type": "code",
   "execution_count": 75,
   "metadata": {
    "collapsed": false
   },
   "outputs": [
    {
     "name": "stdout",
     "output_type": "stream",
     "text": [
      "xbarG=8.944,  sG=2.645, nG=18.000\n",
      "xbarW=11.143, sW=2.179, nW=14.000\n"
     ]
    }
   ],
   "source": [
    "# mean and s\n",
    "xbarG = gettysburg.mean()\n",
    "sG = gettysburg.std(ddof=1)\n",
    "nG = len(gettysburg)\n",
    "print \"xbarG={:0.3f},  sG={:0.3f}, nG={:0.3f}\".format(xbarG, sG, nG)\n",
    "xbarW = wilma.mean()\n",
    "sW = wilma.std(ddof=1)\n",
    "nW = len(wilma)\n",
    "print \"xbarW={:0.3f}, sW={:0.3f}, nW={:0.3f}\".format(xbarW, sW, nW)"
   ]
  },
  {
   "cell_type": "code",
   "execution_count": 90,
   "metadata": {
    "collapsed": false
   },
   "outputs": [
    {
     "data": {
      "text/plain": [
       "6.0219576719576731"
      ]
     },
     "execution_count": 90,
     "metadata": {},
     "output_type": "execute_result"
    }
   ],
   "source": [
    "# pooled variance\n",
    "SSG = sum((gettysburg - gettysburg.mean())**2)\n",
    "SSW = sum((wilma - wilma.mean())**2)\n",
    "Sp_q = (SSG+SSW)/(nG+nW-2)\n",
    "Sp_q"
   ]
  },
  {
   "cell_type": "code",
   "execution_count": 98,
   "metadata": {
    "collapsed": false
   },
   "outputs": [
    {
     "data": {
      "text/plain": [
       "2.4539677406106368"
      ]
     },
     "execution_count": 98,
     "metadata": {},
     "output_type": "execute_result"
    }
   ],
   "source": [
    "np.sqrt(Sp_q)"
   ]
  },
  {
   "cell_type": "code",
   "execution_count": 91,
   "metadata": {
    "collapsed": false
   },
   "outputs": [
    {
     "data": {
      "text/plain": [
       "0.87446728795816642"
      ]
     },
     "execution_count": 91,
     "metadata": {},
     "output_type": "execute_result"
    }
   ],
   "source": [
    "SE = np.sqrt(Sp_q/nG + Sp_q/nW)\n",
    "SE"
   ]
  },
  {
   "cell_type": "markdown",
   "metadata": {},
   "source": [
    "#### <span style=\"color: #85100F;\">3. Test statistic calculation</span>"
   ]
  },
  {
   "cell_type": "code",
   "execution_count": 92,
   "metadata": {
    "collapsed": false
   },
   "outputs": [
    {
     "data": {
      "text/plain": [
       "-2.5140022144749081"
      ]
     },
     "execution_count": 92,
     "metadata": {},
     "output_type": "execute_result"
    }
   ],
   "source": [
    "t_score = (xbarG-xbarW) / SE\n",
    "t_score"
   ]
  },
  {
   "cell_type": "markdown",
   "metadata": {},
   "source": [
    "#### <span style=\"color: #85100F;\">4. Critical point determination</span>"
   ]
  },
  {
   "cell_type": "code",
   "execution_count": 93,
   "metadata": {
    "collapsed": false
   },
   "outputs": [
    {
     "data": {
      "text/plain": [
       "-2.0422724563012382"
      ]
     },
     "execution_count": 93,
     "metadata": {},
     "output_type": "execute_result"
    }
   ],
   "source": [
    "dof = nG + nW - 2\n",
    "t_critical = t.ppf(alpha/2, dof)\n",
    "t_critical"
   ]
  },
  {
   "cell_type": "markdown",
   "metadata": {},
   "source": [
    "#### <span style=\"color: #85100F;\">5. Results interpretation</span>"
   ]
  },
  {
   "cell_type": "markdown",
   "metadata": {},
   "source": [
    "<span style=\"color: #009933;\">The <b>null hypothesis is rejected with $p < 0.05$</b>, which means that <b>there is a significant difference between the meal prices</b></span>\n",
    "\n",
    "1) <u>Descriptive statistics:</u>\n",
    "    $$\\begin{array}{ccc}\n",
    "    \\bar{x}_G & = & 8.994\\\\\n",
    "    \\bar{x}_W & = & 11.143\\\\\n",
    "    s_G & = & 2.645 \\\\\n",
    "    s_W & = & 2.179 \\\\\n",
    "    S_p & = & 2.45\n",
    "    \\end{array}$$\n",
    "\n",
    "2) <u>Inferential statistics:</u>\n",
    "\n",
    "t(30)=-2.58, p=.018, two-tailed<br>\n",
    "Confidence interval on the mean difference meal prices between Gettysburg and Wilma<br>\n",
    "95% CI = (-3.98 to -0.41)\n",
    "\n",
    "3) <u>Effect size measures:</u>\n",
    "\n",
    "* Cohen's d = -0.90\n",
    "* R^2 = .17\n",
    "\n",
    "So <b>17%</b> of the <b>difference in meal prices</b> can be <b>attributed to the area</b>."
   ]
  },
  {
   "cell_type": "code",
   "execution_count": 94,
   "metadata": {
    "collapsed": false
   },
   "outputs": [
    {
     "name": "stdout",
     "output_type": "stream",
     "text": [
      "P-value = 0.018\n"
     ]
    }
   ],
   "source": [
    "# P-value\n",
    "P_value = 2*t.cdf(t_score, dof)\n",
    "print \"P-value = {:0.3f}\".format(P_value)"
   ]
  },
  {
   "cell_type": "code",
   "execution_count": 95,
   "metadata": {
    "collapsed": false
   },
   "outputs": [
    {
     "name": "stdout",
     "output_type": "stream",
     "text": [
      "95% CI = (-3.98 to -0.41)\n"
     ]
    }
   ],
   "source": [
    "# CI\n",
    "t_char = t.ppf(1-alpha/2, dof)\n",
    "me = t_char * SE\n",
    "print \"95% CI = ({:0.2f} to {:0.2f})\".format((xbarG-xbarW)-me, (xbarG-xbarW)+me)"
   ]
  },
  {
   "cell_type": "code",
   "execution_count": 96,
   "metadata": {
    "collapsed": false
   },
   "outputs": [
    {
     "name": "stdout",
     "output_type": "stream",
     "text": [
      "d = -0.90\n"
     ]
    }
   ],
   "source": [
    "# Cohen's d\n",
    "d = (xbarG-xbarW) / np.sqrt(Sp_q)\n",
    "print \"d = {:0.2f}\".format(d)"
   ]
  },
  {
   "cell_type": "code",
   "execution_count": 97,
   "metadata": {
    "collapsed": false
   },
   "outputs": [
    {
     "name": "stdout",
     "output_type": "stream",
     "text": [
      "R^2 = 0.17\n"
     ]
    }
   ],
   "source": [
    "# R^2\n",
    "r_squared = t_score**2 / (t_score**2 + (dof))\n",
    "print \"R^2 = {:0.2f}\".format(r_squared)"
   ]
  },
  {
   "cell_type": "markdown",
   "metadata": {
    "collapsed": true
   },
   "source": [
    "# <span style=\"color: #2455C3\">ADHD good behaviors</span>"
   ]
  },
  {
   "cell_type": "markdown",
   "metadata": {},
   "source": [
    "A researcher examined the effects of two different incentives to improve behavior in two groups of boys diagnosed with ADHD. The researcher randomly assigned 10 boys to each group. The boys earned points for every time they engaged in good behavior (e.g. raising a hand to ask a question, helping a fellow student, completing assigned work). Points could be exchanged for different incentives. For one group, the points could be exchanged for extra time at recess. For the other group, the points could be exchanged for prizes from the school gift shop (e.g., pencils, small toys). The researcher measured the number of good behaviors in a single 20-minute class period. The mean for the recess group was 10 and the mean for the prize group was 7. The standard error is 0.94. The pooled standard deviation was 2.33"
   ]
  },
  {
   "cell_type": "markdown",
   "metadata": {},
   "source": [
    "## <span style=\"color: #85100F\">Solution</span>"
   ]
  },
  {
   "cell_type": "markdown",
   "metadata": {},
   "source": [
    "#### <span style=\"color: #85100F\">1. Statating the hypothesis</span>"
   ]
  },
  {
   "cell_type": "markdown",
   "metadata": {},
   "source": [
    "$$\\begin{array}{cl}\n",
    "H_0: & \\mu_{\\text{recess}} = \\mu_{\\text{prize}}\\\\\n",
    " & \\text{there will not be a difference in the number}\\\\\n",
    " & \\text{of good behaviors between the two incentive conditions}\\\\\n",
    "H_A: & \\mu_{\\text{recess}} \\neq \\mu_{\\text{prize}}\n",
    "\\end{array}$$"
   ]
  },
  {
   "cell_type": "markdown",
   "metadata": {},
   "source": [
    "#### <span style=\"color: #85100F;\">2. Analyzing sample data</span>"
   ]
  },
  {
   "cell_type": "code",
   "execution_count": 46,
   "metadata": {
    "collapsed": true
   },
   "outputs": [],
   "source": [
    "# known data\n",
    "# two-sample two-tailed test\n",
    "alpha = 0.05\n",
    "# recess -> 1\n",
    "xbar1 = 10.0\n",
    "n1 = 10.0\n",
    "# prize -> 2\n",
    "xbar2 = 7.0\n",
    "n2 = 10\n",
    "SE = 0.94\n",
    "Sp = 2.33"
   ]
  },
  {
   "cell_type": "markdown",
   "metadata": {},
   "source": [
    "#### <span style=\"color: #85100F;\">3. Test statistic calculation</span>"
   ]
  },
  {
   "cell_type": "code",
   "execution_count": 45,
   "metadata": {
    "collapsed": false
   },
   "outputs": [
    {
     "data": {
      "text/plain": [
       "3.191489361702128"
      ]
     },
     "execution_count": 45,
     "metadata": {},
     "output_type": "execute_result"
    }
   ],
   "source": [
    "t_score = (xbar1-xbar2) / SE\n",
    "t_score"
   ]
  },
  {
   "cell_type": "markdown",
   "metadata": {},
   "source": [
    "#### <span style=\"color: #85100F;\">4. Critical point determination</span>"
   ]
  },
  {
   "cell_type": "code",
   "execution_count": 43,
   "metadata": {
    "collapsed": false
   },
   "outputs": [
    {
     "data": {
      "text/plain": [
       "2.1009220402409601"
      ]
     },
     "execution_count": 43,
     "metadata": {},
     "output_type": "execute_result"
    }
   ],
   "source": [
    "dof = n1 + n2 - 2\n",
    "t_critical = t.ppf(1-alpha/2, dof)\n",
    "t_critical"
   ]
  },
  {
   "cell_type": "markdown",
   "metadata": {},
   "source": [
    "#### <span style=\"color: #85100F;\">5. Results interpretation</span>"
   ]
  },
  {
   "cell_type": "markdown",
   "metadata": {},
   "source": [
    "<span style=\"color: #009933;\">The <b>null hypothesis is rejected with $p < 0.01$</b>, which means that <b>there is a significant difference in the number of good behaviours between the two incentive conditions</b>. In fact because $d=1.29$ <b>the best incentive is the recess one</b></span>\n",
    "\n",
    "1) <u>Descriptive statistics:</u>\n",
    "    $$\\begin{array}{lcl}\n",
    "    \\bar{x}_{\\text{recess}} & = & 10.0\\\\\n",
    "    \\bar{x}_{\\text{prize}} & = & 7.0\\\\\n",
    "    S_P & = & 2.33\n",
    "    \\end{array}$$\n",
    "\n",
    "2) <u>Inferential statistics:</u>\n",
    "\n",
    "t(18)=3.19, p=.005, two-tailed<br>\n",
    "Confidence interval on the mean difference of goodbehaviors between recess incentive and prize incentive<br>\n",
    "95% CI = (1.03 - 4.97)\n",
    "\n",
    "3) <u>Effect size measures:</u>\n",
    "\n",
    "* Cohen's d = 1.29\n",
    "* R^2 = .36\n",
    "\n",
    "So <b>36%</b> of the <b>difference in number of good behaviors</b> can be <b>attributed to the incentive condition</b>."
   ]
  },
  {
   "cell_type": "code",
   "execution_count": 54,
   "metadata": {
    "collapsed": false
   },
   "outputs": [
    {
     "name": "stdout",
     "output_type": "stream",
     "text": [
      "P-value = 0.005\n"
     ]
    }
   ],
   "source": [
    "# P-value\n",
    "P_value = 2*t.sf(t_score, dof)\n",
    "print \"P-value = {:0.3f}\".format(P_value)"
   ]
  },
  {
   "cell_type": "code",
   "execution_count": 55,
   "metadata": {
    "collapsed": false
   },
   "outputs": [
    {
     "name": "stdout",
     "output_type": "stream",
     "text": [
      "95% CI = (1.03 to 4.97)\n"
     ]
    }
   ],
   "source": [
    "# CI\n",
    "t_char = t.ppf(1-alpha/2, dof)\n",
    "me = t_char * SE\n",
    "print \"95% CI = ({:0.2f} to {:0.2f})\".format((xbar1-xbar2)-me, (xbar1-xbar2)+me)"
   ]
  },
  {
   "cell_type": "code",
   "execution_count": 56,
   "metadata": {
    "collapsed": false
   },
   "outputs": [
    {
     "name": "stdout",
     "output_type": "stream",
     "text": [
      "d = 1.29\n"
     ]
    }
   ],
   "source": [
    "# Cohen's d\n",
    "d = (xbar1-xbar2) / Sp\n",
    "print \"d = {:0.2f}\".format(d)"
   ]
  },
  {
   "cell_type": "code",
   "execution_count": 57,
   "metadata": {
    "collapsed": false
   },
   "outputs": [
    {
     "name": "stdout",
     "output_type": "stream",
     "text": [
      "R^2 = 0.36\n"
     ]
    }
   ],
   "source": [
    "# R^2\n",
    "r_squared = t_score**2 / (t_score**2 + (dof))\n",
    "print \"R^2 = {:0.2f}\".format(r_squared)"
   ]
  }
 ],
 "metadata": {
  "kernelspec": {
   "display_name": "Python 2",
   "language": "python",
   "name": "python2"
  },
  "language_info": {
   "codemirror_mode": {
    "name": "ipython",
    "version": 2
   },
   "file_extension": ".py",
   "mimetype": "text/x-python",
   "name": "python",
   "nbconvert_exporter": "python",
   "pygments_lexer": "ipython2",
   "version": "2.7.6"
  }
 },
 "nbformat": 4,
 "nbformat_minor": 0
}
