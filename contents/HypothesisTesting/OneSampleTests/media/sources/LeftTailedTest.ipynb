{
 "cells": [
  {
   "cell_type": "code",
   "execution_count": 1,
   "metadata": {
    "collapsed": true
   },
   "outputs": [],
   "source": [
    "from scipy.stats import norm, t\n",
    "import numpy as np"
   ]
  },
  {
   "cell_type": "markdown",
   "metadata": {},
   "source": [
    "<hr style=\"color: #009933; border: solid 1px\">\n",
    "<span style=\"color: #009933;\">known std, $\\sigma$</span>"
   ]
  },
  {
   "cell_type": "markdown",
   "metadata": {},
   "source": [
    "# <span style=\"color: #2455C3\">Running speed</span>"
   ]
  },
  {
   "cell_type": "markdown",
   "metadata": {},
   "source": [
    "A new training technique is supposed to <u>decrease</u> how long it takes professional sprinters to run 200-meter races (i.e. this training technique will increase their speeds). A trainer takes a random sample of female sprinters and records how long it takes sprinters to run 200 meters after the training.\n",
    "\n",
    "The trainer finds that the average time it takes the population of female sprinters to run 200 meters is 22.965 seconds with standard deviation 0.360. The trainer's sample completed the sprint in 22.793 seconds ($n=16$)"
   ]
  },
  {
   "cell_type": "markdown",
   "metadata": {},
   "source": [
    "## <span style=\"color: #85100F\">Solution</span>"
   ]
  },
  {
   "cell_type": "markdown",
   "metadata": {},
   "source": [
    "#### <span style=\"color: #85100F\">1. Statating the hypothesis</span>"
   ]
  },
  {
   "cell_type": "markdown",
   "metadata": {},
   "source": [
    "If the time it takes to run 200 meters is the variable of interest, which of the following symbolizes the null and alternative hypotheiss for ono-tailed (directional) test where $\\mu_I$ is the mean after this intervention?"
   ]
  },
  {
   "cell_type": "markdown",
   "metadata": {},
   "source": [
    "$$\\begin{array}{cl}\n",
    "H_0: & \\mu \\leq \\mu_I\\\\\n",
    "H_1: & \\mu > \\mu_I\\\\\n",
    " & \\text{after the training sprinters will run 200 meters in less time}\n",
    "\\end{array}$$"
   ]
  },
  {
   "cell_type": "markdown",
   "metadata": {
    "collapsed": true
   },
   "source": [
    "#### <span style=\"color: #85100F\">2. Analyzing sample data</span>"
   ]
  },
  {
   "cell_type": "code",
   "execution_count": 2,
   "metadata": {
    "collapsed": true
   },
   "outputs": [],
   "source": [
    "# known data\n",
    "# one-sample left-tailed test\n",
    "n = 16.0\n",
    "mu = 22.965\n",
    "sigma = 0.360\n",
    "x_bar = 22.793\n",
    "alpha = 0.05"
   ]
  },
  {
   "cell_type": "code",
   "execution_count": 3,
   "metadata": {
    "collapsed": false
   },
   "outputs": [
    {
     "data": {
      "text/plain": [
       "0.089999999999999997"
      ]
     },
     "execution_count": 3,
     "metadata": {},
     "output_type": "execute_result"
    }
   ],
   "source": [
    "SE = sigma / np.sqrt(n)\n",
    "SE"
   ]
  },
  {
   "cell_type": "markdown",
   "metadata": {},
   "source": [
    "#### <span style=\"color: #85100F;\">3. Test statistic calculation</span>"
   ]
  },
  {
   "cell_type": "code",
   "execution_count": 4,
   "metadata": {
    "collapsed": false
   },
   "outputs": [
    {
     "data": {
      "text/plain": [
       "-1.9111111111111179"
      ]
     },
     "execution_count": 4,
     "metadata": {},
     "output_type": "execute_result"
    }
   ],
   "source": [
    "z_score = (x_bar - mu) / SE\n",
    "z_score"
   ]
  },
  {
   "cell_type": "markdown",
   "metadata": {},
   "source": [
    "#### <span style=\"color: #85100F;\">4. Critical point determination</span>"
   ]
  },
  {
   "cell_type": "code",
   "execution_count": 5,
   "metadata": {
    "collapsed": false
   },
   "outputs": [
    {
     "data": {
      "text/plain": [
       "-1.6448536269514729"
      ]
     },
     "execution_count": 5,
     "metadata": {},
     "output_type": "execute_result"
    }
   ],
   "source": [
    "z_critical = norm.ppf(alpha)\n",
    "z_critical"
   ]
  },
  {
   "cell_type": "markdown",
   "metadata": {},
   "source": [
    "#### <span style=\"color: #85100F;\">5. Results interpretation</span>"
   ]
  },
  {
   "cell_type": "markdown",
   "metadata": {},
   "source": [
    "<span style=\"color: #009933;\">The <b>null hypothesis is rejected with $p<0.05$</b>, which means that <b>sptinters are faster after the training</b></span>\n",
    "\n",
    "1) <u>Descriptive statistics:</u>\n",
    "    $$\\begin{array}{ccc}\n",
    "    \\mu & = & 22.965\\\\\n",
    "    \\bar{x} & = & 22.793\\\\\n",
    "    \\sigma & = & 0.360\n",
    "    \\end{array}$$\n",
    "\n",
    "2) <u>Inferential statistics:</u>\n",
    "\n",
    "z=-1.91, p=.03, one-tailed<br>\n",
    "Confidence interval on the mean of 200-meter sprint time<br>\n",
    "95% CI = (22.617 - 22.969)\n",
    "\n",
    "3) <u>Effect size measures:</u>\n",
    "\n",
    "* Cohen's d = -0.48"
   ]
  },
  {
   "cell_type": "code",
   "execution_count": 15,
   "metadata": {
    "collapsed": false
   },
   "outputs": [
    {
     "name": "stdout",
     "output_type": "stream",
     "text": [
      "P-value = 0.03\n"
     ]
    }
   ],
   "source": [
    "# P-value\n",
    "P_value = norm.cdf(z_score)\n",
    "print \"P-value = {:0.2f}\".format(P_value)"
   ]
  },
  {
   "cell_type": "code",
   "execution_count": 20,
   "metadata": {
    "collapsed": false
   },
   "outputs": [
    {
     "name": "stdout",
     "output_type": "stream",
     "text": [
      "95% CI = (22.617 - 22.969)\n"
     ]
    }
   ],
   "source": [
    "# CI\n",
    "z_char = norm.ppf(1-alpha/2)\n",
    "me = z_char * SE\n",
    "print \"95% CI = ({:0.3f} - {:0.3f})\".format(x_bar-me, x_bar+me)"
   ]
  },
  {
   "cell_type": "code",
   "execution_count": 19,
   "metadata": {
    "collapsed": false
   },
   "outputs": [
    {
     "name": "stdout",
     "output_type": "stream",
     "text": [
      "d = -0.48\n"
     ]
    }
   ],
   "source": [
    "# Cohen's d\n",
    "d = (x_bar - mu) / sigma\n",
    "print \"d = {:0.2f}\".format(d)"
   ]
  },
  {
   "cell_type": "markdown",
   "metadata": {},
   "source": [
    "<hr style=\"color: #009933; border: solid 1px\">\n",
    "<span style=\"color: #009933;\">unknown std, $s$</span>"
   ]
  },
  {
   "cell_type": "markdown",
   "metadata": {
    "collapsed": true
   },
   "source": [
    "# <span style=\"color: #2455C3\">Food spend</span>"
   ]
  },
  {
   "cell_type": "markdown",
   "metadata": {},
   "source": [
    "US families spend an average of \\$151 per week on food in 2012. Food Now!, a food coperative wants to reduce the costs of food for their members ($n=25$). To do so, they implement some cost-saving programs. Food Now! wants to know if its program really obtain the desired benefits."
   ]
  },
  {
   "cell_type": "markdown",
   "metadata": {},
   "source": [
    "## <span style=\"color: #85100F\">Solution</span>"
   ]
  },
  {
   "cell_type": "markdown",
   "metadata": {},
   "source": [
    "#### <span style=\"color: #85100F\">1. Statating the hypothesis</span>"
   ]
  },
  {
   "cell_type": "markdown",
   "metadata": {},
   "source": [
    "$$\\begin{array}{cl}\n",
    "H_0: & \\mu_{\\text{program}} \\geq 151\\\\\n",
    " & \\text{the program did not change the cost of food or even increase it}\\\\\n",
    "H_A: & \\mu_{\\text{program}} < 151\\\\\n",
    " & \\text{the program reduced the cost of food}\n",
    "\\end{array}$$"
   ]
  },
  {
   "cell_type": "markdown",
   "metadata": {},
   "source": [
    "#### <span style=\"color: #85100F;\">2. Analyzing sample data</span>"
   ]
  },
  {
   "cell_type": "code",
   "execution_count": 9,
   "metadata": {
    "collapsed": true
   },
   "outputs": [],
   "source": [
    "# known data\n",
    "# one-sampple left-tailed test\n",
    "n = 25.0\n",
    "mu = 151.0\n",
    "s = 50.0             #given\n",
    "x_bar = 126.0        #given\n",
    "alpha = 0.05"
   ]
  },
  {
   "cell_type": "code",
   "execution_count": 10,
   "metadata": {
    "collapsed": false
   },
   "outputs": [
    {
     "data": {
      "text/plain": [
       "10.0"
      ]
     },
     "execution_count": 10,
     "metadata": {},
     "output_type": "execute_result"
    }
   ],
   "source": [
    "SE = s / np.sqrt(n)\n",
    "SE"
   ]
  },
  {
   "cell_type": "markdown",
   "metadata": {},
   "source": [
    "#### <span style=\"color: #85100F;\">3. Test statistic calculation</span>"
   ]
  },
  {
   "cell_type": "code",
   "execution_count": 12,
   "metadata": {
    "collapsed": false
   },
   "outputs": [
    {
     "data": {
      "text/plain": [
       "-2.5"
      ]
     },
     "execution_count": 12,
     "metadata": {},
     "output_type": "execute_result"
    }
   ],
   "source": [
    "t_score = (x_bar-mu) / SE\n",
    "t_score"
   ]
  },
  {
   "cell_type": "markdown",
   "metadata": {},
   "source": [
    "#### <span style=\"color: #85100F;\">4. Critical point determination</span>"
   ]
  },
  {
   "cell_type": "code",
   "execution_count": 4,
   "metadata": {
    "collapsed": false
   },
   "outputs": [
    {
     "data": {
      "text/plain": [
       "-1.7108820799094282"
      ]
     },
     "execution_count": 4,
     "metadata": {},
     "output_type": "execute_result"
    }
   ],
   "source": [
    "t_critical = t.ppf(alpha, n-1)\n",
    "t_critical"
   ]
  },
  {
   "cell_type": "markdown",
   "metadata": {},
   "source": [
    "#### <span style=\"color: #85100F;\">5. Results interpretation</span>"
   ]
  },
  {
   "cell_type": "markdown",
   "metadata": {},
   "source": [
    "<span style=\"color: #009933;\">The <b>null hypothesis is rejected</b>, which means that <b>the program reduces the cost of food</b></span>\n",
    "\n",
    "1) <u>Descriptive statistics:</u>\n",
    "    $$\\begin{array}{ccc}\n",
    "    \\mu & = & 151\\\\\n",
    "    \\bar{x} & = & 126\\\\\n",
    "    s & = & 50\n",
    "    \\end{array}$$\n",
    "\n",
    "2) <u>Inferential statistics:</u>\n",
    "\n",
    "t(24)=-2.5, p=.01, one-tailed<br>\n",
    "Confidence interval on the mean food expense per week<br>\n",
    "95% CI = (105.36 - 146.64)\n",
    "\n",
    "3) <u>Effect size measures:</u>\n",
    "\n",
    "* Cohen's d = -0.50\n",
    "* R^2 = .21\n",
    "\n",
    "So the <b>21%</b> of the <b>difference in food expenses</b> for the sample of 25 people are <b>due to</b> the <b>cost-saving program</b>."
   ]
  },
  {
   "cell_type": "code",
   "execution_count": 17,
   "metadata": {
    "collapsed": false
   },
   "outputs": [
    {
     "name": "stdout",
     "output_type": "stream",
     "text": [
      "P-value = 0.01\n"
     ]
    }
   ],
   "source": [
    "# P-value\n",
    "P_value = t.cdf(t_score, n-1)\n",
    "print \"P-value = {:0.2f}\".format(P_value)"
   ]
  },
  {
   "cell_type": "code",
   "execution_count": 25,
   "metadata": {
    "collapsed": false
   },
   "outputs": [
    {
     "name": "stdout",
     "output_type": "stream",
     "text": [
      "95% CI = (105.36 - 146.64)\n"
     ]
    }
   ],
   "source": [
    "# CI\n",
    "t_char = t.ppf(1-alpha/2, n-1)\n",
    "me = t_char * SE\n",
    "print \"95% CI = ({:0.2f} - {:0.2f})\".format(x_bar-me, x_bar+me)"
   ]
  },
  {
   "cell_type": "code",
   "execution_count": 18,
   "metadata": {
    "collapsed": false
   },
   "outputs": [
    {
     "name": "stdout",
     "output_type": "stream",
     "text": [
      "d = -0.50\n"
     ]
    }
   ],
   "source": [
    "# Cohen's d\n",
    "d = (x_bar - mu) / s\n",
    "print \"d = {:0.2f}\".format(d)"
   ]
  },
  {
   "cell_type": "code",
   "execution_count": 21,
   "metadata": {
    "collapsed": false
   },
   "outputs": [
    {
     "name": "stdout",
     "output_type": "stream",
     "text": [
      "R^2 = 0.21\n"
     ]
    }
   ],
   "source": [
    "# R^2\n",
    "r_squared = t_score**2 / (t_score**2 + (n-1))\n",
    "print \"R^2 = {:0.2f}\".format(r_squared)"
   ]
  }
 ],
 "metadata": {
  "kernelspec": {
   "display_name": "Python 2",
   "language": "python",
   "name": "python2"
  },
  "language_info": {
   "codemirror_mode": {
    "name": "ipython",
    "version": 2
   },
   "file_extension": ".py",
   "mimetype": "text/x-python",
   "name": "python",
   "nbconvert_exporter": "python",
   "pygments_lexer": "ipython2",
   "version": "2.7.6"
  }
 },
 "nbformat": 4,
 "nbformat_minor": 0
}
