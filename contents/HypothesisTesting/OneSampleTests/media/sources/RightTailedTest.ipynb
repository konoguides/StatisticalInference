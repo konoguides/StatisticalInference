{
 "cells": [
  {
   "cell_type": "code",
   "execution_count": 25,
   "metadata": {
    "collapsed": true
   },
   "outputs": [],
   "source": [
    "from scipy.stats import norm\n",
    "import numpy as np"
   ]
  },
  {
   "cell_type": "markdown",
   "metadata": {},
   "source": [
    "<hr style=\"color: #009933; border: solid 1px\">\n",
    "<span style=\"color: #009933;\">known std, $\\sigma$</span>"
   ]
  },
  {
   "cell_type": "markdown",
   "metadata": {},
   "source": [
    "# <span style=\"color: #2455C3\">Listening to music while studing</span>"
   ]
  },
  {
   "cell_type": "markdown",
   "metadata": {},
   "source": [
    "Numerous studies have demostrated that listening to music while studing can improve memory. To demostrate this phenomenon, a researcher obtain a sample of 36 collage students and gives them a standardized memory test while they listen to background music. Under normal circunstances (without any music) the scores on the test form a normal distribution with mean 25 and standard 6. The sample mean is 28. Use $\\alpha = 0.05$ for a one-tailed (directional) test. "
   ]
  },
  {
   "cell_type": "markdown",
   "metadata": {},
   "source": [
    "## <span style=\"color: #85100F\">Solution</span>"
   ]
  },
  {
   "cell_type": "markdown",
   "metadata": {},
   "source": [
    "####  <span style=\"color: #85100F\">1. Stating the hypothesis</span>"
   ]
  },
  {
   "cell_type": "markdown",
   "metadata": {},
   "source": [
    "$$\\begin{array}{cl}\n",
    "H_0: & \\mu \\geq \\mu_I \\\\\n",
    " & \\text{listening to music while studing will not improve memory} \\\\\n",
    " & \\text{and may actually make it worse}\\\\\n",
    "H_1 : & \\mu < \\mu_I \\\\\n",
    " & \\text{listening to music while studing will improve memory}\n",
    "\\end{array}$$"
   ]
  },
  {
   "cell_type": "markdown",
   "metadata": {
    "collapsed": true
   },
   "source": [
    "#### <span style=\"color: #85100F;\">2. Analyzing sample data</span>"
   ]
  },
  {
   "cell_type": "code",
   "execution_count": 4,
   "metadata": {
    "collapsed": true
   },
   "outputs": [],
   "source": [
    "# known data\n",
    "# one sample right-tailed test\n",
    "n = 36.0\n",
    "mu = 25.0\n",
    "sigma = 6.0\n",
    "x_bar = 28.0\n",
    "alpha = 0.05"
   ]
  },
  {
   "cell_type": "code",
   "execution_count": 5,
   "metadata": {
    "collapsed": false
   },
   "outputs": [
    {
     "data": {
      "text/plain": [
       "1.0"
      ]
     },
     "execution_count": 5,
     "metadata": {},
     "output_type": "execute_result"
    }
   ],
   "source": [
    "SE = sigma / np.sqrt(n)\n",
    "SE"
   ]
  },
  {
   "cell_type": "markdown",
   "metadata": {},
   "source": [
    "#### <span style=\"color: #85100F;\">3. Test statistic calculation</span>"
   ]
  },
  {
   "cell_type": "code",
   "execution_count": 6,
   "metadata": {
    "collapsed": false
   },
   "outputs": [
    {
     "data": {
      "text/plain": [
       "3.0"
      ]
     },
     "execution_count": 6,
     "metadata": {},
     "output_type": "execute_result"
    }
   ],
   "source": [
    "z_score = (x_bar - mu) / SE\n",
    "z_score"
   ]
  },
  {
   "cell_type": "markdown",
   "metadata": {},
   "source": [
    "#### <span style=\"color: #85100F;\">4. Critical point determination</span>"
   ]
  },
  {
   "cell_type": "code",
   "execution_count": 7,
   "metadata": {
    "collapsed": false
   },
   "outputs": [
    {
     "data": {
      "text/plain": [
       "1.6448536269514722"
      ]
     },
     "execution_count": 7,
     "metadata": {},
     "output_type": "execute_result"
    }
   ],
   "source": [
    "# defining criticarl region\n",
    "z_critical = norm.ppf(1-alpha)\n",
    "z_critical"
   ]
  },
  {
   "cell_type": "markdown",
   "metadata": {},
   "source": [
    "#### <span style=\"color: #85100F;\">5. Results interpretation</span>"
   ]
  },
  {
   "cell_type": "markdown",
   "metadata": {},
   "source": [
    "<span style=\"color: #009933;\">The <b>null hypothesis is rejected with $p<0.01$</b>, which means that <b>listening to music while studing will improve memory</b></span>\n",
    "\n",
    "1) <u>Descriptive statistics:</u>\n",
    "    $$\\begin{array}{ccc}\n",
    "    \\mu & = & 25.0\\\\\n",
    "    \\bar{x} & = & 28.0\\\\\n",
    "    \\sigma & = & 6.0\n",
    "    \\end{array}$$\n",
    "\n",
    "2) <u>Inferential statistics:</u>\n",
    "\n",
    "z=3.0, p=.0013, one-tailed<br>\n",
    "Confidence interval on the mean standarized memory test<br>\n",
    "95% CI = (26.04 - 29.96)\n",
    "\n",
    "3) <u>Effect size measures:</u>\n",
    "\n",
    "* Cohen's d = 0.50"
   ]
  },
  {
   "cell_type": "code",
   "execution_count": 17,
   "metadata": {
    "collapsed": false
   },
   "outputs": [
    {
     "name": "stdout",
     "output_type": "stream",
     "text": [
      "P-value = 0.0013\n"
     ]
    }
   ],
   "source": [
    "# P-value\n",
    "P_value = norm.sf(z_score)\n",
    "print \"P-value = {:0.4f}\".format(P_value)"
   ]
  },
  {
   "cell_type": "code",
   "execution_count": 24,
   "metadata": {
    "collapsed": false
   },
   "outputs": [
    {
     "name": "stdout",
     "output_type": "stream",
     "text": [
      "95% CI = (26.04 - 29.96)\n"
     ]
    }
   ],
   "source": [
    "# CI\n",
    "z_char = norm.ppf(1-alpha/2)\n",
    "me = z_char * SE\n",
    "print \"95% CI = ({:0.2f} - {:0.2f})\".format(x_bar-me, x_bar+me)"
   ]
  },
  {
   "cell_type": "code",
   "execution_count": 23,
   "metadata": {
    "collapsed": false
   },
   "outputs": [
    {
     "name": "stdout",
     "output_type": "stream",
     "text": [
      "d = 0.50\n"
     ]
    }
   ],
   "source": [
    "# Cohen's d\n",
    "d = (x_bar - mu) / sigma\n",
    "print \"d = {:0.2f}\".format(d)"
   ]
  },
  {
   "cell_type": "markdown",
   "metadata": {},
   "source": [
    "<hr style=\"color: #009933; border: solid 1px\">\n",
    "<span style=\"color: #009933;\">unknown std, $s$</span>"
   ]
  },
  {
   "cell_type": "code",
   "execution_count": null,
   "metadata": {
    "collapsed": true
   },
   "outputs": [],
   "source": []
  }
 ],
 "metadata": {
  "kernelspec": {
   "display_name": "Python 2",
   "language": "python",
   "name": "python2"
  },
  "language_info": {
   "codemirror_mode": {
    "name": "ipython",
    "version": 2
   },
   "file_extension": ".py",
   "mimetype": "text/x-python",
   "name": "python",
   "nbconvert_exporter": "python",
   "pygments_lexer": "ipython2",
   "version": "2.7.6"
  }
 },
 "nbformat": 4,
 "nbformat_minor": 0
}
